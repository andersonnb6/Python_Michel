{
  "nbformat": 4,
  "nbformat_minor": 0,
  "metadata": {
    "colab": {
      "name": "Python_Michel_Excercicio01.ipynb",
      "provenance": [],
      "authorship_tag": "ABX9TyNW3JJttNfgwuy0Wf/xbo6G",
      "include_colab_link": true
    },
    "kernelspec": {
      "name": "python3",
      "display_name": "Python 3"
    }
  },
  "cells": [
    {
      "cell_type": "markdown",
      "metadata": {
        "id": "view-in-github",
        "colab_type": "text"
      },
      "source": [
        "<a href=\"https://colab.research.google.com/github/andersonnb6/Python_Michel/blob/main/Python_Michel_Excercicio01.ipynb\" target=\"_parent\"><img src=\"https://colab.research.google.com/assets/colab-badge.svg\" alt=\"Open In Colab\"/></a>"
      ]
    },
    {
      "cell_type": "markdown",
      "metadata": {
        "id": "V2b4BRKqpA3h"
      },
      "source": [
        "# Linguagem Python\n",
        "## Excercício 1\n",
        "\n",
        "1. Crie uma variável chamada \"nome\" e armazene seu nome.\n",
        "2. Crie uma variável chamada \"idade\" e armazene sua idade.\n",
        "3. Crie uma variável chamada \"jogo\" e armazene um jogo que goste.\n",
        "4. Faça o programa mostrar na tela o que você gravou nas variaveis."
      ]
    },
    {
      "cell_type": "code",
      "metadata": {
        "id": "Kbz6xjMq_Pyd"
      },
      "source": [
        "# Exemplo\n",
        "animal = 'abelha'   # ensina a criar uma variável\n",
        "print(animal)       # ensina como mostrar a variavel na tela"
      ],
      "execution_count": null,
      "outputs": []
    },
    {
      "cell_type": "code",
      "metadata": {
        "id": "yuxoDSlL_S1n",
        "outputId": "44539a6d-deaa-4000-b589-7652e3882210",
        "colab": {
          "base_uri": "https://localhost:8080/"
        }
      },
      "source": [
        "# Resposta\n",
        "nome = 'Michel'\n",
        "idade = 10 \n",
        "jogo = 'fall guys'\n",
        "\n",
        "print(nome,idade,jogo)\n"
      ],
      "execution_count": 2,
      "outputs": [
        {
          "output_type": "stream",
          "text": [
            "Michel 10 fall guys\n"
          ],
          "name": "stdout"
        }
      ]
    }
  ]
}