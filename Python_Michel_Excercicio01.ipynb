{
  "nbformat": 4,
  "nbformat_minor": 0,
  "metadata": {
    "colab": {
      "name": "Python_Michel_Excercicio01.ipynb",
      "provenance": [],
      "authorship_tag": "ABX9TyPtkJNbFTMTo+GwNIAAeDV/",
      "include_colab_link": true
    },
    "kernelspec": {
      "name": "python3",
      "display_name": "Python 3"
    }
  },
  "cells": [
    {
      "cell_type": "markdown",
      "metadata": {
        "id": "view-in-github",
        "colab_type": "text"
      },
      "source": [
        "<a href=\"https://colab.research.google.com/github/andersonnb6/Python_Michel/blob/main/Python_Michel_Excercicio01.ipynb\" target=\"_parent\"><img src=\"https://colab.research.google.com/assets/colab-badge.svg\" alt=\"Open In Colab\"/></a>"
      ]
    },
    {
      "cell_type": "markdown",
      "metadata": {
        "id": "V2b4BRKqpA3h"
      },
      "source": [
        "# Linguagem Python\n",
        "## Excercício 1\n",
        "\n",
        "1. Crie uma variável chamada \"nome\" e armazene seu nome.\n",
        "2. Crie uma variável chamada \"idade\" e armazene sua idade.\n",
        "3. Crie uma variável chamada \"jogo\" e armazene um jogo que goste.\n",
        "4. Faça o programa mostrar na tela o que você gravou nas variaveis."
      ]
    }
  ]
}