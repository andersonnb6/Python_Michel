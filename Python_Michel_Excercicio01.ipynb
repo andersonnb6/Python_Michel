{
  "nbformat": 4,
  "nbformat_minor": 0,
  "metadata": {
    "colab": {
      "name": "Untitled1.ipynb",
      "provenance": [],
      "authorship_tag": "ABX9TyMePrhen9+1EWdbYAc4ooEN",
      "include_colab_link": true
    },
    "kernelspec": {
      "name": "python3",
      "display_name": "Python 3"
    }
  },
  "cells": [
    {
      "cell_type": "markdown",
      "metadata": {
        "id": "view-in-github",
        "colab_type": "text"
      },
      "source": [
        "<a href=\"https://colab.research.google.com/github/andersonnb6/Python_Michel/blob/main/Python_Michel_Excercicio01.ipynb\" target=\"_parent\"><img src=\"https://colab.research.google.com/assets/colab-badge.svg\" alt=\"Open In Colab\"/></a>"
      ]
    },
    {
      "cell_type": "markdown",
      "metadata": {
        "id": "V2b4BRKqpA3h"
      },
      "source": [
        "# Linguagem Python\n",
        "## Excercício 1\n",
        "\n",
        "Crie um programa que:\n",
        "\n",
        "1. Pergunte do usuário \"Qual o seu nome?\". O nome deve ser guardado em uma variável chamada \"nome\".\n",
        "2. Pergunte do usuário \"Qual a sua idade?\". O nome deve ser guardado em uma variável chamada \"idade\".\n",
        "3. Pergunte do usuário \"Qual seu jogo favorito?\". O nome deve ser guardado em uma variável chamada \"jogo\".\n",
        "4. Imprima a frase de acordo com as respostas do usuário, exemplo: \"Você se chama Anderson e tem 27 anos. Seu jogo favorito é CSGO\""
      ]
    },
    {
      "cell_type": "code",
      "metadata": {
        "id": "GSitdondo6GD",
        "outputId": "b52f1bff-58a0-41d9-a7d0-29bb204fd4dd",
        "colab": {
          "base_uri": "https://localhost:8080/"
        }
      },
      "source": [
        "# Dica:\n",
        "\n",
        "animal1 = input(\"Digite qualquer animal: \")\n",
        "animal2 = input(\"Digite outro animal: \")\n",
        "\n",
        "print(\"O primeiro animal foi\", animal1, \"e o segundo animal foi\", animal2, \"!\")\n",
        "\n"
      ],
      "execution_count": 3,
      "outputs": [
        {
          "output_type": "stream",
          "text": [
            "Digite qualquer animal: rato\n",
            "Digite outro animal: macaco\n",
            "O primeiro animal foi rato e o segundo animal foi macaco !\n"
          ],
          "name": "stdout"
        }
      ]
    }
  ]
}