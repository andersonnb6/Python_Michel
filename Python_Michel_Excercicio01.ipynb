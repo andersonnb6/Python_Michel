{
  "nbformat": 4,
  "nbformat_minor": 0,
  "metadata": {
    "colab": {
      "name": "Python_Michel_Excercicio01.ipynb",
      "provenance": [],
      "authorship_tag": "ABX9TyOsTviLmyB89OIBWTEQp7Ii",
      "include_colab_link": true
    },
    "kernelspec": {
      "name": "python3",
      "display_name": "Python 3"
    }
  },
  "cells": [
    {
      "cell_type": "markdown",
      "metadata": {
        "id": "view-in-github",
        "colab_type": "text"
      },
      "source": [
        "<a href=\"https://colab.research.google.com/github/andersonnb6/Python_Michel/blob/main/Python_Michel_Excercicio01.ipynb\" target=\"_parent\"><img src=\"https://colab.research.google.com/assets/colab-badge.svg\" alt=\"Open In Colab\"/></a>"
      ]
    },
    {
      "cell_type": "markdown",
      "metadata": {
        "id": "V2b4BRKqpA3h"
      },
      "source": [
        "# Linguagem Python\n",
        "## Excercício 1\n",
        "\n",
        "Crie um programa que:\n",
        "\n",
        "1. Pergunte do usuário \"Qual o seu nome?\". O nome deve ser guardado em uma variável chamada \"nome\".\n",
        "2. Pergunte do usuário \"Qual a sua idade?\". O nome deve ser guardado em uma variável chamada \"idade\".\n",
        "3. Pergunte do usuário \"Qual seu jogo favorito?\". O nome deve ser guardado em uma variável chamada \"jogo\".\n",
        "4. Imprima as frases de acordo com as respostas do usuário, exemplo: \n",
        "- \"Seu nome é Anderson\"\n",
        "- \"Sua idade é 27.\n",
        "- \"Seu jogo favorito é CSGO\"\n"
      ]
    },
    {
      "cell_type": "code",
      "metadata": {
        "id": "GSitdondo6GD"
      },
      "source": [
        "# Dica:\n",
        "\n",
        "texto_digitado = input(\"Digite qualquer coisa: \")\n",
        "print(\"Você digitou:\", texto_digitado)\n",
        "\n"
      ],
      "execution_count": null,
      "outputs": []
    }
  ]
}