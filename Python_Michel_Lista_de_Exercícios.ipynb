{
  "nbformat": 4,
  "nbformat_minor": 0,
  "metadata": {
    "colab": {
      "name": "Python_Michel_Lista de Exercícios.ipynb",
      "provenance": [],
      "collapsed_sections": [],
      "include_colab_link": true
    },
    "kernelspec": {
      "name": "python3",
      "display_name": "Python 3"
    }
  },
  "cells": [
    {
      "cell_type": "markdown",
      "metadata": {
        "id": "view-in-github",
        "colab_type": "text"
      },
      "source": [
        "<a href=\"https://colab.research.google.com/github/andersonnb6/Python_Michel/blob/main/Python_Michel_Lista_de_Exerc%C3%ADcios.ipynb\" target=\"_parent\"><img src=\"https://colab.research.google.com/assets/colab-badge.svg\" alt=\"Open In Colab\"/></a>"
      ]
    },
    {
      "cell_type": "markdown",
      "metadata": {
        "id": "RCsKh2Y8hXYk"
      },
      "source": [
        "# Lista de Exercícios\n",
        "## Linguagem Python"
      ]
    },
    {
      "cell_type": "markdown",
      "metadata": {
        "id": "d13MIJ7UhteV"
      },
      "source": [
        "### Excercício 1\n",
        "\n",
        "1. Crie uma variável chamada \"nome\" e armazene seu nome.\n",
        "2. Crie uma variável chamada \"idade\" e armazene sua idade.\n",
        "3. Crie uma variável chamada \"jogo\" e armazene um jogo que goste.\n",
        "4. Faça o programa mostrar na tela o que você gravou nas variaveis."
      ]
    },
    {
      "cell_type": "code",
      "metadata": {
        "id": "_DJCt_f3hsyx",
        "outputId": "3d7219b3-ebbe-46ee-a19b-e9d5f9784d2a",
        "colab": {
          "base_uri": "https://localhost:8080/"
        }
      },
      "source": [
        "# Resposta do Exercício 1\n",
        "\n",
        "nome = 'Michel'\n",
        "idade = 10 \n",
        "jogo = 'fall guys'\n",
        "\n",
        "print(nome,idade,jogo)"
      ],
      "execution_count": null,
      "outputs": [
        {
          "output_type": "stream",
          "text": [
            "Michel 10 fall guys\n"
          ],
          "name": "stdout"
        }
      ]
    },
    {
      "cell_type": "markdown",
      "metadata": {
        "id": "V2b4BRKqpA3h"
      },
      "source": [
        "### Excercício 2\n",
        "\n",
        "Crie um programa que:\n",
        "\n",
        "1. Pergunte do usuário \"Qual o seu nome?\". Guarde a informação em uma variável chamada \"nome\".\n",
        "2. Pergunte do usuário \"Quantos anos você tem?\". Guarde a informação em uma variável chamada \"idade\".\n",
        "3. Pergunte do usuário \"Qual seu jogo favorito\". Guarde a informação uma variável chamada \"jogo\" \n",
        "4. Imprima as frases de acordo com as respostas do usuário, exemplo:\n",
        "- Seu nome é Anderson\n",
        "- Sua idade é 27\n",
        "- Seu jogo favorito é CSGO\n"
      ]
    },
    {
      "cell_type": "code",
      "metadata": {
        "id": "fk8zxx72gIJ5",
        "outputId": "f619d922-518b-4d5b-aa99-8815127af347",
        "colab": {
          "base_uri": "https://localhost:8080/"
        }
      },
      "source": [
        "# Resposta do Exercício 2\n",
        "\n",
        "# Variáveis\n",
        "nome = input('Qual é o seu nome? ')\n",
        "idade = input('Quantos anos você tem? ')\n",
        "jogo = input('Qual é o seu jogo favorito? ')\n",
        "\n",
        "# Frases\n",
        "print('')\n",
        "print('É um prazer te conhecer {}!'.format(nome))\n",
        "print('Seu nome é {}!'.format(nome))\n",
        "print('Sua idade é {}!'.format(idade))\n",
        "print('Seu jogo favorito é {}!'.format(jogo))\n",
        "print('')\n",
        "print(\"Olá {}! É uma honra te conhecer. Você tem {} anos. Seu jogo Favorito é {}.\".format(nome,idade,jogo))\n"
      ],
      "execution_count": null,
      "outputs": [
        {
          "output_type": "stream",
          "text": [
            "Qual é o seu nome? Anderson\n",
            "Quantos anos você tem? 27\n",
            "Qual é o seu jogo favorito? CSGO\n",
            "\n",
            "É um prazer te conhecer Anderson!\n",
            "Seu nome é Anderson!\n",
            "Sua idade é 27!\n",
            "Seu jogo favorito é CSGO!\n",
            "\n",
            "Olá Anderson! É uma honra te conhecer. Você tem 27 anos. Seu jogo Favorito é CSGO.\n"
          ],
          "name": "stdout"
        }
      ]
    },
    {
      "cell_type": "markdown",
      "metadata": {
        "id": "LojSZexwjNRh"
      },
      "source": [
        "### Excercício 3\n",
        "\n",
        "1. Atribua o valor 9 em uma variável chamada 'x'.\n",
        "2. Atribua o valor 3 em uma variável chamada 'y'.\n",
        "3. Armazene o valor da soma de x e y em uma variável chamada 'soma'\n",
        "4. Armazene o valor da subtração de x e y em uma variável chamada 'subtracao'\n",
        "5. Armazene o valor da multiplicação de x e y em uma variável chamada 'multiplicacao'\n",
        "6. Armazene o valor da divisão de x e y em uma variável chamada 'divisao'\n",
        "7. Mostre na tela o valor das variáveis criadas. Exemplo: \n",
        "\n",
        "- A soma é igual a 34\n",
        "- A subtração é igual a 32\n",
        "- A multiplicação é igual a 56\n",
        "- A divisão é igual a 12"
      ]
    },
    {
      "cell_type": "code",
      "metadata": {
        "id": "gPvt_OW2jMea",
        "outputId": "a8cdd8d2-e97e-4e61-e341-3d3e2cced0c6",
        "colab": {
          "base_uri": "https://localhost:8080/"
        }
      },
      "source": [
        "# Resposta do Exercício 3\n",
        "\n",
        "x = 9\n",
        "y = 3\n",
        "print('')\n",
        "soma = x + y\n",
        "print('A soma é igual a {}!'.format(soma))\n",
        "print('')\n",
        "subtracao = x - y\n",
        "print('A subtração é igual a {}!'.format(subtracao))\n",
        "print('')\n",
        "Multiplicacao = x * y\n",
        "print('A Multiplicação é igual a {}!'.format(Multiplicacao))\n",
        "print('')\n",
        "Divisao = x / y\n",
        "print('A Divisão é igual a {}!'.format(Divisao))"
      ],
      "execution_count": null,
      "outputs": [
        {
          "output_type": "stream",
          "text": [
            "\n",
            "A soma é igual a 12!\n",
            "\n",
            "A subtração é igual a 6!\n",
            "\n",
            "A Multiplicação é igual a 27!\n",
            "\n",
            "A Divisão é igual a 3.0!\n"
          ],
          "name": "stdout"
        }
      ]
    }
  ]
}