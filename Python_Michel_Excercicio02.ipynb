{
  "nbformat": 4,
  "nbformat_minor": 0,
  "metadata": {
    "colab": {
      "name": "Python_Michel_Excercicio01.ipynb",
      "provenance": [],
      "include_colab_link": true
    },
    "kernelspec": {
      "name": "python3",
      "display_name": "Python 3"
    }
  },
  "cells": [
    {
      "cell_type": "markdown",
      "metadata": {
        "id": "view-in-github",
        "colab_type": "text"
      },
      "source": [
        "<a href=\"https://colab.research.google.com/github/andersonnb6/Python_Michel/blob/main/Python_Michel_Excercicio02.ipynb\" target=\"_parent\"><img src=\"https://colab.research.google.com/assets/colab-badge.svg\" alt=\"Open In Colab\"/></a>"
      ]
    },
    {
      "cell_type": "markdown",
      "metadata": {
        "id": "V2b4BRKqpA3h"
      },
      "source": [
        "# Linguagem Python\n",
        "## Excercício 2\n",
        "\n",
        "Crie um programa que:\n",
        "\n",
        "1. Pergunte do usuário \"Qual o seu nome?\". Guarde a informação em uma variável chamada \"nome\".\n",
        "2. Pergunte do usuário \"Quantos anos você tem?\". Guarde a informação em uma variável chamada \"idade\".\n",
        "3. Pergunte do usuário \"Qual seu jogo favorito\". Guarde a informação uma variável chamada \"jogo\" \n",
        "4. Imprima as frases de acordo com as respostas do usuário, exemplo:\n",
        "- Seu nome é Anderson\n",
        "- Sua idade é 27\n",
        "- Seu jogo favorito é CSGO\n"
      ]
    },
    {
      "cell_type": "code",
      "metadata": {
        "id": "fk8zxx72gIJ5",
        "outputId": "ac2b3dd6-9985-4de8-8b21-882d7a971727",
        "colab": {
          "base_uri": "https://localhost:8080/"
        }
      },
      "source": [
        "# Desenvolva a tarefa nesta área\n",
        "\n",
        "# Variáveis\n",
        "nome = input('Qual é o seu nome? ')\n",
        "idade = input('Quantos anos você tem? ')\n",
        "jogo = input('Qual é o seu jogo favorito? ')\n",
        "\n",
        "# Frases\n",
        "print('')\n",
        "print('É um prazer te conhecer {}!'.format(nome))\n",
        "print('Seu nome é {}!'.format(nome))\n",
        "print('Sua idade é {}!'.format(idade))\n",
        "print('Seu jogo favorito é {}!'.format(jogo))\n",
        "print('')\n",
        "print(\"Olá {}! É uma honra te conhecer. Você tem {} anos. Seu jogo Favorito é {}.\".format(nome,idade,jogo))\n"
      ],
      "execution_count": 70,
      "outputs": [
        {
          "output_type": "stream",
          "text": [
            "Qual é o seu nome? Anderson\n",
            "Quantos anos você tem? 27\n",
            "Qual é o seu jogo favorito? CSGO\n",
            "\n",
            "É um prazer te conhecer Anderson!\n",
            "Seu nome é Anderson!\n",
            "Sua idade é 27!\n",
            "Seu jogo favorito é CSGO!\n",
            "\n",
            "Olá Anderson! É uma honra te conhecer. Você tem 27 anos. Seu jogo Favorito é CSGO.\n"
          ],
          "name": "stdout"
        }
      ]
    }
  ]
}